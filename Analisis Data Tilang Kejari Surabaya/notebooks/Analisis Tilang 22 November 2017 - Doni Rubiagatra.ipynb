{
 "cells": [
  {
   "cell_type": "markdown",
   "metadata": {},
   "source": [
    "# Analisis Data Tilang menggunakan Python"
   ]
  },
  {
   "cell_type": "markdown",
   "metadata": {},
   "source": [
    "Pertama tama kita gunakan Pandas sebagai *library* utama yang digunakan"
   ]
  },
  {
   "cell_type": "code",
   "execution_count": 1,
   "metadata": {
    "collapsed": true
   },
   "outputs": [],
   "source": [
    "import pandas as pd\n",
    "import matplotlib.pyplot as plt\n",
    "%matplotlib inline\n",
    "plt.style.use('seaborn')"
   ]
  },
  {
   "cell_type": "code",
   "execution_count": 2,
   "metadata": {
    "collapsed": true
   },
   "outputs": [],
   "source": [
    "df = pd.read_excel(\"../data/Tilang 22 DESEMBER 2017.xls\")"
   ]
  },
  {
   "cell_type": "markdown",
   "metadata": {},
   "source": [
    "- Saat kita memuat file ke dalam DataFrame, terlihat masih berantakan\n",
    "- Pertama tama kita coba untuk merapikan DataFrame"
   ]
  },
  {
   "cell_type": "code",
   "execution_count": 3,
   "metadata": {},
   "outputs": [
    {
     "data": {
      "text/html": [
       "<div>\n",
       "<style>\n",
       "    .dataframe thead tr:only-child th {\n",
       "        text-align: right;\n",
       "    }\n",
       "\n",
       "    .dataframe thead th {\n",
       "        text-align: left;\n",
       "    }\n",
       "\n",
       "    .dataframe tbody tr th {\n",
       "        vertical-align: top;\n",
       "    }\n",
       "</style>\n",
       "<table border=\"1\" class=\"dataframe\">\n",
       "  <thead>\n",
       "    <tr style=\"text-align: right;\">\n",
       "      <th></th>\n",
       "      <th>DAFTAR PERKARA TILANG DAN PENYELESAIAN SIDANG</th>\n",
       "      <th>Unnamed: 1</th>\n",
       "      <th>Unnamed: 2</th>\n",
       "      <th>Unnamed: 3</th>\n",
       "      <th>Unnamed: 4</th>\n",
       "      <th>Unnamed: 5</th>\n",
       "      <th>Unnamed: 6</th>\n",
       "      <th>Unnamed: 7</th>\n",
       "      <th>Unnamed: 8</th>\n",
       "      <th>Unnamed: 9</th>\n",
       "      <th>Unnamed: 10</th>\n",
       "      <th>Unnamed: 11</th>\n",
       "      <th>Unnamed: 12</th>\n",
       "      <th>Unnamed: 13</th>\n",
       "      <th>Unnamed: 14</th>\n",
       "    </tr>\n",
       "  </thead>\n",
       "  <tbody>\n",
       "    <tr>\n",
       "      <th>0</th>\n",
       "      <td>SIDANG TANGGAL : 22 DESEMBER 2017</td>\n",
       "      <td>NaN</td>\n",
       "      <td>NaN</td>\n",
       "      <td>NaN</td>\n",
       "      <td>NaN</td>\n",
       "      <td>NaN</td>\n",
       "      <td>NaN</td>\n",
       "      <td>NaN</td>\n",
       "      <td>NaN</td>\n",
       "      <td>NaN</td>\n",
       "      <td>NaN</td>\n",
       "      <td>NaN</td>\n",
       "      <td>NaN</td>\n",
       "      <td>NaN</td>\n",
       "      <td>NaN</td>\n",
       "    </tr>\n",
       "    <tr>\n",
       "      <th>1</th>\n",
       "      <td>NaN</td>\n",
       "      <td>NaN</td>\n",
       "      <td>NaN</td>\n",
       "      <td>NaN</td>\n",
       "      <td>NaN</td>\n",
       "      <td>NaN</td>\n",
       "      <td>NaN</td>\n",
       "      <td>NaN</td>\n",
       "      <td>NaN</td>\n",
       "      <td>NaN</td>\n",
       "      <td>NaN</td>\n",
       "      <td>NaN</td>\n",
       "      <td>NaN</td>\n",
       "      <td>NaN</td>\n",
       "      <td>NaN</td>\n",
       "    </tr>\n",
       "    <tr>\n",
       "      <th>2</th>\n",
       "      <td>NaN</td>\n",
       "      <td>NaN</td>\n",
       "      <td>NaN</td>\n",
       "      <td>NaN</td>\n",
       "      <td>NaN</td>\n",
       "      <td>NaN</td>\n",
       "      <td>NaN</td>\n",
       "      <td>NaN</td>\n",
       "      <td>NaN</td>\n",
       "      <td>NaN</td>\n",
       "      <td>NaN</td>\n",
       "      <td>NaN</td>\n",
       "      <td>NaN</td>\n",
       "      <td>NaN</td>\n",
       "      <td>NaN</td>\n",
       "    </tr>\n",
       "    <tr>\n",
       "      <th>3</th>\n",
       "      <td>No.</td>\n",
       "      <td>No. Tilang</td>\n",
       "      <td>Nama Terdakwa / Terpidana</td>\n",
       "      <td>Alamat Terdakwa / Terpidana</td>\n",
       "      <td>Pasal Yang Dilanggar</td>\n",
       "      <td>Barang bukti</td>\n",
       "      <td>No pol</td>\n",
       "      <td>No. Kop</td>\n",
       "      <td>No pn</td>\n",
       "      <td>KOP</td>\n",
       "      <td>Denda (Rp)</td>\n",
       "      <td>Subsidair</td>\n",
       "      <td>Biaya Perkara (Rp)</td>\n",
       "      <td>Jenis kendaraan</td>\n",
       "      <td>Ket</td>\n",
       "    </tr>\n",
       "    <tr>\n",
       "      <th>4</th>\n",
       "      <td>NaN</td>\n",
       "      <td>NaN</td>\n",
       "      <td>NaN</td>\n",
       "      <td>NaN</td>\n",
       "      <td>NaN</td>\n",
       "      <td>NaN</td>\n",
       "      <td>NaN</td>\n",
       "      <td>NaN</td>\n",
       "      <td>NaN</td>\n",
       "      <td>NaN</td>\n",
       "      <td>NaN</td>\n",
       "      <td>NaN</td>\n",
       "      <td>NaN</td>\n",
       "      <td>NaN</td>\n",
       "      <td>NaN</td>\n",
       "    </tr>\n",
       "  </tbody>\n",
       "</table>\n",
       "</div>"
      ],
      "text/plain": [
       "  DAFTAR PERKARA TILANG DAN PENYELESAIAN SIDANG  Unnamed: 1  \\\n",
       "0             SIDANG TANGGAL : 22 DESEMBER 2017         NaN   \n",
       "1                                           NaN         NaN   \n",
       "2                                           NaN         NaN   \n",
       "3                                           No.  No. Tilang   \n",
       "4                                           NaN         NaN   \n",
       "\n",
       "                  Unnamed: 2                   Unnamed: 3  \\\n",
       "0                        NaN                          NaN   \n",
       "1                        NaN                          NaN   \n",
       "2                        NaN                          NaN   \n",
       "3  Nama Terdakwa / Terpidana  Alamat Terdakwa / Terpidana   \n",
       "4                        NaN                          NaN   \n",
       "\n",
       "             Unnamed: 4    Unnamed: 5 Unnamed: 6 Unnamed: 7 Unnamed: 8  \\\n",
       "0                   NaN           NaN        NaN        NaN        NaN   \n",
       "1                   NaN           NaN        NaN        NaN        NaN   \n",
       "2                   NaN           NaN        NaN        NaN        NaN   \n",
       "3  Pasal Yang Dilanggar  Barang bukti     No pol    No. Kop      No pn   \n",
       "4                   NaN           NaN        NaN        NaN        NaN   \n",
       "\n",
       "  Unnamed: 9 Unnamed: 10 Unnamed: 11         Unnamed: 12      Unnamed: 13  \\\n",
       "0        NaN         NaN         NaN                 NaN              NaN   \n",
       "1        NaN         NaN         NaN                 NaN              NaN   \n",
       "2        NaN         NaN         NaN                 NaN              NaN   \n",
       "3        KOP  Denda (Rp)   Subsidair  Biaya Perkara (Rp)  Jenis kendaraan   \n",
       "4        NaN         NaN         NaN                 NaN              NaN   \n",
       "\n",
       "  Unnamed: 14  \n",
       "0         NaN  \n",
       "1         NaN  \n",
       "2         NaN  \n",
       "3         Ket  \n",
       "4         NaN  "
      ]
     },
     "execution_count": 3,
     "metadata": {},
     "output_type": "execute_result"
    }
   ],
   "source": [
    "df.head()"
   ]
  },
  {
   "cell_type": "code",
   "execution_count": 4,
   "metadata": {
    "collapsed": true
   },
   "outputs": [],
   "source": [
    "df.columns = df.loc[3,:]\n",
    "df.columns.name = ''\n",
    "df = df.loc[6:,:]\n",
    "df.index = range(len(df))\n"
   ]
  },
  {
   "cell_type": "code",
   "execution_count": 5,
   "metadata": {},
   "outputs": [],
   "source": [
    "df['Denda (Rp)'] = df['Denda (Rp)'] * 1000"
   ]
  },
  {
   "cell_type": "code",
   "execution_count": 6,
   "metadata": {},
   "outputs": [
    {
     "data": {
      "text/html": [
       "<div>\n",
       "<style>\n",
       "    .dataframe thead tr:only-child th {\n",
       "        text-align: right;\n",
       "    }\n",
       "\n",
       "    .dataframe thead th {\n",
       "        text-align: left;\n",
       "    }\n",
       "\n",
       "    .dataframe tbody tr th {\n",
       "        vertical-align: top;\n",
       "    }\n",
       "</style>\n",
       "<table border=\"1\" class=\"dataframe\">\n",
       "  <thead>\n",
       "    <tr style=\"text-align: right;\">\n",
       "      <th></th>\n",
       "      <th>No.</th>\n",
       "      <th>No. Tilang</th>\n",
       "      <th>Nama Terdakwa / Terpidana</th>\n",
       "      <th>Alamat Terdakwa / Terpidana</th>\n",
       "      <th>Pasal Yang Dilanggar</th>\n",
       "      <th>Barang bukti</th>\n",
       "      <th>No pol</th>\n",
       "      <th>No. Kop</th>\n",
       "      <th>No pn</th>\n",
       "      <th>KOP</th>\n",
       "      <th>Denda (Rp)</th>\n",
       "      <th>Subsidair</th>\n",
       "      <th>Biaya Perkara (Rp)</th>\n",
       "      <th>Jenis kendaraan</th>\n",
       "      <th>Ket</th>\n",
       "    </tr>\n",
       "  </thead>\n",
       "  <tbody>\n",
       "    <tr>\n",
       "      <th>0</th>\n",
       "      <td>1</td>\n",
       "      <td>4986875</td>\n",
       "      <td>YUSWANTO</td>\n",
       "      <td>LIDAH KULON SURABAYA</td>\n",
       "      <td>287(1A)</td>\n",
       "      <td>SIM C</td>\n",
       "      <td>NIHIL</td>\n",
       "      <td>NaN</td>\n",
       "      <td>295071</td>\n",
       "      <td>NaN</td>\n",
       "      <td>40000</td>\n",
       "      <td>3 HARI</td>\n",
       "      <td>1000</td>\n",
       "      <td>SEPEDA MOTOR</td>\n",
       "      <td>ELANG</td>\n",
       "    </tr>\n",
       "    <tr>\n",
       "      <th>1</th>\n",
       "      <td>2</td>\n",
       "      <td>4986874</td>\n",
       "      <td>MEGA</td>\n",
       "      <td>MAGELANG</td>\n",
       "      <td>287(1A)</td>\n",
       "      <td>STNK</td>\n",
       "      <td>L 5877 ZK</td>\n",
       "      <td>NaN</td>\n",
       "      <td>295072</td>\n",
       "      <td>NaN</td>\n",
       "      <td>40000</td>\n",
       "      <td>3 HARI</td>\n",
       "      <td>1000</td>\n",
       "      <td>SEPEDA MOTOR</td>\n",
       "      <td>ELANG</td>\n",
       "    </tr>\n",
       "    <tr>\n",
       "      <th>2</th>\n",
       "      <td>3</td>\n",
       "      <td>4986881</td>\n",
       "      <td>SUNARSIH</td>\n",
       "      <td>JOMBANG</td>\n",
       "      <td>281</td>\n",
       "      <td>STNK</td>\n",
       "      <td>S 5091 ZK</td>\n",
       "      <td>NaN</td>\n",
       "      <td>295073</td>\n",
       "      <td>NaN</td>\n",
       "      <td>90000</td>\n",
       "      <td>3 HARI</td>\n",
       "      <td>1000</td>\n",
       "      <td>SEPEDA MOTOR</td>\n",
       "      <td>ELANG</td>\n",
       "    </tr>\n",
       "    <tr>\n",
       "      <th>3</th>\n",
       "      <td>4</td>\n",
       "      <td>4986882</td>\n",
       "      <td>NANTOR J MARPAUNG</td>\n",
       "      <td>MEDAYU SURABAYA</td>\n",
       "      <td>287(1A)</td>\n",
       "      <td>SIM C</td>\n",
       "      <td>NIHIL</td>\n",
       "      <td>NaN</td>\n",
       "      <td>295074</td>\n",
       "      <td>NaN</td>\n",
       "      <td>40000</td>\n",
       "      <td>3 HARI</td>\n",
       "      <td>1000</td>\n",
       "      <td>SEPEDA MOTOR</td>\n",
       "      <td>ELANG</td>\n",
       "    </tr>\n",
       "    <tr>\n",
       "      <th>4</th>\n",
       "      <td>5</td>\n",
       "      <td>4986885</td>\n",
       "      <td>MOCHAMMAD TAUFIQ</td>\n",
       "      <td>GILANG TAMAN SIDOARJO</td>\n",
       "      <td>287(1A)</td>\n",
       "      <td>SIM C</td>\n",
       "      <td>NIHIL</td>\n",
       "      <td>NaN</td>\n",
       "      <td>295075</td>\n",
       "      <td>NaN</td>\n",
       "      <td>40000</td>\n",
       "      <td>3 HARI</td>\n",
       "      <td>1000</td>\n",
       "      <td>SEPEDA MOTOR</td>\n",
       "      <td>ELANG</td>\n",
       "    </tr>\n",
       "  </tbody>\n",
       "</table>\n",
       "</div>"
      ],
      "text/plain": [
       "  No. No. Tilang Nama Terdakwa / Terpidana Alamat Terdakwa / Terpidana  \\\n",
       "0   1    4986875                  YUSWANTO        LIDAH KULON SURABAYA   \n",
       "1   2    4986874                      MEGA                    MAGELANG   \n",
       "2   3    4986881                  SUNARSIH                     JOMBANG   \n",
       "3   4    4986882         NANTOR J MARPAUNG             MEDAYU SURABAYA   \n",
       "4   5    4986885          MOCHAMMAD TAUFIQ       GILANG TAMAN SIDOARJO   \n",
       "\n",
       "  Pasal Yang Dilanggar Barang bukti     No pol No. Kop   No pn  KOP  \\\n",
       "0              287(1A)        SIM C      NIHIL     NaN  295071  NaN   \n",
       "1              287(1A)         STNK  L 5877 ZK     NaN  295072  NaN   \n",
       "2                  281         STNK  S 5091 ZK     NaN  295073  NaN   \n",
       "3              287(1A)        SIM C      NIHIL     NaN  295074  NaN   \n",
       "4              287(1A)        SIM C      NIHIL     NaN  295075  NaN   \n",
       "\n",
       "  Denda (Rp) Subsidair Biaya Perkara (Rp) Jenis kendaraan    Ket  \n",
       "0      40000    3 HARI               1000    SEPEDA MOTOR  ELANG  \n",
       "1      40000    3 HARI               1000    SEPEDA MOTOR  ELANG  \n",
       "2      90000    3 HARI               1000    SEPEDA MOTOR  ELANG  \n",
       "3      40000    3 HARI               1000    SEPEDA MOTOR  ELANG  \n",
       "4      40000    3 HARI               1000    SEPEDA MOTOR  ELANG  "
      ]
     },
     "execution_count": 6,
     "metadata": {},
     "output_type": "execute_result"
    }
   ],
   "source": [
    "df.head()"
   ]
  },
  {
   "cell_type": "code",
   "execution_count": 7,
   "metadata": {
    "collapsed": true
   },
   "outputs": [],
   "source": [
    "df.to_csv(\"../data/Tilang 22 Desember 2017.csv\")"
   ]
  },
  {
   "cell_type": "code",
   "execution_count": 8,
   "metadata": {},
   "outputs": [
    {
     "data": {
      "text/html": [
       "<div>\n",
       "<style>\n",
       "    .dataframe thead tr:only-child th {\n",
       "        text-align: right;\n",
       "    }\n",
       "\n",
       "    .dataframe thead th {\n",
       "        text-align: left;\n",
       "    }\n",
       "\n",
       "    .dataframe tbody tr th {\n",
       "        vertical-align: top;\n",
       "    }\n",
       "</style>\n",
       "<table border=\"1\" class=\"dataframe\">\n",
       "  <thead>\n",
       "    <tr style=\"text-align: right;\">\n",
       "      <th></th>\n",
       "      <th>No.</th>\n",
       "      <th>No. Tilang</th>\n",
       "      <th>Nama Terdakwa / Terpidana</th>\n",
       "      <th>Alamat Terdakwa / Terpidana</th>\n",
       "      <th>Pasal Yang Dilanggar</th>\n",
       "      <th>Barang bukti</th>\n",
       "      <th>No pol</th>\n",
       "      <th>No. Kop</th>\n",
       "      <th>No pn</th>\n",
       "      <th>KOP</th>\n",
       "      <th>Denda (Rp)</th>\n",
       "      <th>Subsidair</th>\n",
       "      <th>Biaya Perkara (Rp)</th>\n",
       "      <th>Jenis kendaraan</th>\n",
       "      <th>Ket</th>\n",
       "    </tr>\n",
       "  </thead>\n",
       "  <tbody>\n",
       "    <tr>\n",
       "      <th>4436</th>\n",
       "      <td>4437</td>\n",
       "      <td>4986443</td>\n",
       "      <td>ANANDA BAIK ALFIANO</td>\n",
       "      <td>BRONGGALAN SAWAH 1.34 SBY</td>\n",
       "      <td>285(1)</td>\n",
       "      <td>RANMOR R2</td>\n",
       "      <td>L 6573 BK</td>\n",
       "      <td>NaN</td>\n",
       "      <td>299507</td>\n",
       "      <td>NaN</td>\n",
       "      <td>40000</td>\n",
       "      <td>3 HARI</td>\n",
       "      <td>1000</td>\n",
       "      <td>SEPEDA MOTOR</td>\n",
       "      <td>TIMSUS</td>\n",
       "    </tr>\n",
       "    <tr>\n",
       "      <th>4437</th>\n",
       "      <td>1</td>\n",
       "      <td>C 5681376</td>\n",
       "      <td>ACI P N</td>\n",
       "      <td>KEDIRI</td>\n",
       "      <td>307</td>\n",
       "      <td>STNK</td>\n",
       "      <td>AG 9118 UT</td>\n",
       "      <td>NaN</td>\n",
       "      <td>299508</td>\n",
       "      <td>NaN</td>\n",
       "      <td>80000</td>\n",
       "      <td>3 HARI</td>\n",
       "      <td>1000</td>\n",
       "      <td>TRUK</td>\n",
       "      <td>NaN</td>\n",
       "    </tr>\n",
       "    <tr>\n",
       "      <th>4438</th>\n",
       "      <td>2</td>\n",
       "      <td>C 5681377</td>\n",
       "      <td>SURYADI</td>\n",
       "      <td>SURABAYA</td>\n",
       "      <td>307</td>\n",
       "      <td>SIM A</td>\n",
       "      <td>AD 7144 IS</td>\n",
       "      <td>NaN</td>\n",
       "      <td>299509</td>\n",
       "      <td>NaN</td>\n",
       "      <td>70000</td>\n",
       "      <td>3 HARI</td>\n",
       "      <td>1000</td>\n",
       "      <td>PICK UP</td>\n",
       "      <td>NaN</td>\n",
       "    </tr>\n",
       "  </tbody>\n",
       "</table>\n",
       "</div>"
      ],
      "text/plain": [
       "       No. No. Tilang Nama Terdakwa / Terpidana Alamat Terdakwa / Terpidana  \\\n",
       "4436  4437    4986443       ANANDA BAIK ALFIANO   BRONGGALAN SAWAH 1.34 SBY   \n",
       "4437     1  C 5681376                   ACI P N                      KEDIRI   \n",
       "4438     2  C 5681377                   SURYADI                    SURABAYA   \n",
       "\n",
       "     Pasal Yang Dilanggar Barang bukti      No pol No. Kop   No pn  KOP  \\\n",
       "4436               285(1)    RANMOR R2   L 6573 BK     NaN  299507  NaN   \n",
       "4437                  307         STNK  AG 9118 UT     NaN  299508  NaN   \n",
       "4438                  307        SIM A  AD 7144 IS     NaN  299509  NaN   \n",
       "\n",
       "     Denda (Rp) Subsidair Biaya Perkara (Rp) Jenis kendaraan     Ket  \n",
       "4436      40000    3 HARI               1000    SEPEDA MOTOR  TIMSUS  \n",
       "4437      80000    3 HARI               1000            TRUK     NaN  \n",
       "4438      70000    3 HARI               1000         PICK UP     NaN  "
      ]
     },
     "execution_count": 8,
     "metadata": {},
     "output_type": "execute_result"
    }
   ],
   "source": [
    "df.iloc[4436:4439,:]"
   ]
  },
  {
   "cell_type": "code",
   "execution_count": 9,
   "metadata": {
    "collapsed": true
   },
   "outputs": [],
   "source": [
    "df_pertama = df.iloc[:4437,:]"
   ]
  },
  {
   "cell_type": "code",
   "execution_count": 10,
   "metadata": {},
   "outputs": [
    {
     "data": {
      "text/html": [
       "<div>\n",
       "<style>\n",
       "    .dataframe thead tr:only-child th {\n",
       "        text-align: right;\n",
       "    }\n",
       "\n",
       "    .dataframe thead th {\n",
       "        text-align: left;\n",
       "    }\n",
       "\n",
       "    .dataframe tbody tr th {\n",
       "        vertical-align: top;\n",
       "    }\n",
       "</style>\n",
       "<table border=\"1\" class=\"dataframe\">\n",
       "  <thead>\n",
       "    <tr style=\"text-align: right;\">\n",
       "      <th></th>\n",
       "      <th>No.</th>\n",
       "      <th>No. Tilang</th>\n",
       "      <th>Nama Terdakwa / Terpidana</th>\n",
       "      <th>Alamat Terdakwa / Terpidana</th>\n",
       "      <th>Pasal Yang Dilanggar</th>\n",
       "      <th>Barang bukti</th>\n",
       "      <th>No pol</th>\n",
       "      <th>No. Kop</th>\n",
       "      <th>No pn</th>\n",
       "      <th>KOP</th>\n",
       "      <th>Denda (Rp)</th>\n",
       "      <th>Subsidair</th>\n",
       "      <th>Biaya Perkara (Rp)</th>\n",
       "      <th>Jenis kendaraan</th>\n",
       "      <th>Ket</th>\n",
       "    </tr>\n",
       "  </thead>\n",
       "  <tbody>\n",
       "    <tr>\n",
       "      <th>4432</th>\n",
       "      <td>4433</td>\n",
       "      <td>4992224</td>\n",
       "      <td>ADI SANDOJAYA</td>\n",
       "      <td>KR MENJANGAN 139 SBY</td>\n",
       "      <td>285(1)</td>\n",
       "      <td>RANMOR R2</td>\n",
       "      <td>L 2132 AX</td>\n",
       "      <td>NaN</td>\n",
       "      <td>299503</td>\n",
       "      <td>NaN</td>\n",
       "      <td>40000</td>\n",
       "      <td>3 HARI</td>\n",
       "      <td>1000</td>\n",
       "      <td>SEPEDA MOTOR</td>\n",
       "      <td>GAKKUM</td>\n",
       "    </tr>\n",
       "    <tr>\n",
       "      <th>4433</th>\n",
       "      <td>4434</td>\n",
       "      <td>4988345</td>\n",
       "      <td>MOCH ROMI</td>\n",
       "      <td>TBK DLM SBY</td>\n",
       "      <td>285(1)</td>\n",
       "      <td>RANMOR R2</td>\n",
       "      <td>L 5447 C</td>\n",
       "      <td>NaN</td>\n",
       "      <td>299504</td>\n",
       "      <td>NaN</td>\n",
       "      <td>40000</td>\n",
       "      <td>3 HARI</td>\n",
       "      <td>1000</td>\n",
       "      <td>SEPEDA MOTOR</td>\n",
       "      <td>MURAI (RR) A</td>\n",
       "    </tr>\n",
       "    <tr>\n",
       "      <th>4434</th>\n",
       "      <td>4435</td>\n",
       "      <td>4986488</td>\n",
       "      <td>SAIFUL HUDA</td>\n",
       "      <td>GRESIK</td>\n",
       "      <td>285(1)</td>\n",
       "      <td>RANMOR R2</td>\n",
       "      <td>L 6932 RJ</td>\n",
       "      <td>NaN</td>\n",
       "      <td>299505</td>\n",
       "      <td>NaN</td>\n",
       "      <td>90000</td>\n",
       "      <td>3 HARI</td>\n",
       "      <td>1000</td>\n",
       "      <td>SEPEDA MOTOR</td>\n",
       "      <td>TIMSUS</td>\n",
       "    </tr>\n",
       "    <tr>\n",
       "      <th>4435</th>\n",
       "      <td>4436</td>\n",
       "      <td>4992211</td>\n",
       "      <td>SOFYAN</td>\n",
       "      <td>SIDOTOPO SURABAYA</td>\n",
       "      <td>288(1)</td>\n",
       "      <td>RANMOR R2</td>\n",
       "      <td>L 2363 LU</td>\n",
       "      <td>NaN</td>\n",
       "      <td>299506</td>\n",
       "      <td>NaN</td>\n",
       "      <td>50000</td>\n",
       "      <td>3 HARI</td>\n",
       "      <td>1000</td>\n",
       "      <td>SEPEDA MOTOR</td>\n",
       "      <td>GAKKUM</td>\n",
       "    </tr>\n",
       "    <tr>\n",
       "      <th>4436</th>\n",
       "      <td>4437</td>\n",
       "      <td>4986443</td>\n",
       "      <td>ANANDA BAIK ALFIANO</td>\n",
       "      <td>BRONGGALAN SAWAH 1.34 SBY</td>\n",
       "      <td>285(1)</td>\n",
       "      <td>RANMOR R2</td>\n",
       "      <td>L 6573 BK</td>\n",
       "      <td>NaN</td>\n",
       "      <td>299507</td>\n",
       "      <td>NaN</td>\n",
       "      <td>40000</td>\n",
       "      <td>3 HARI</td>\n",
       "      <td>1000</td>\n",
       "      <td>SEPEDA MOTOR</td>\n",
       "      <td>TIMSUS</td>\n",
       "    </tr>\n",
       "  </tbody>\n",
       "</table>\n",
       "</div>"
      ],
      "text/plain": [
       "       No. No. Tilang Nama Terdakwa / Terpidana Alamat Terdakwa / Terpidana  \\\n",
       "4432  4433    4992224             ADI SANDOJAYA        KR MENJANGAN 139 SBY   \n",
       "4433  4434    4988345                 MOCH ROMI                 TBK DLM SBY   \n",
       "4434  4435    4986488               SAIFUL HUDA                      GRESIK   \n",
       "4435  4436    4992211                    SOFYAN           SIDOTOPO SURABAYA   \n",
       "4436  4437    4986443       ANANDA BAIK ALFIANO   BRONGGALAN SAWAH 1.34 SBY   \n",
       "\n",
       "     Pasal Yang Dilanggar Barang bukti     No pol No. Kop   No pn  KOP  \\\n",
       "4432               285(1)    RANMOR R2  L 2132 AX     NaN  299503  NaN   \n",
       "4433               285(1)    RANMOR R2   L 5447 C     NaN  299504  NaN   \n",
       "4434               285(1)    RANMOR R2  L 6932 RJ     NaN  299505  NaN   \n",
       "4435               288(1)    RANMOR R2  L 2363 LU     NaN  299506  NaN   \n",
       "4436               285(1)    RANMOR R2  L 6573 BK     NaN  299507  NaN   \n",
       "\n",
       "     Denda (Rp) Subsidair Biaya Perkara (Rp) Jenis kendaraan           Ket  \n",
       "4432      40000    3 HARI               1000    SEPEDA MOTOR        GAKKUM  \n",
       "4433      40000    3 HARI               1000    SEPEDA MOTOR  MURAI (RR) A  \n",
       "4434      90000    3 HARI               1000    SEPEDA MOTOR        TIMSUS  \n",
       "4435      50000    3 HARI               1000    SEPEDA MOTOR        GAKKUM  \n",
       "4436      40000    3 HARI               1000    SEPEDA MOTOR        TIMSUS  "
      ]
     },
     "execution_count": 10,
     "metadata": {},
     "output_type": "execute_result"
    }
   ],
   "source": [
    "df_pertama.tail()"
   ]
  },
  {
   "cell_type": "code",
   "execution_count": 11,
   "metadata": {
    "collapsed": true
   },
   "outputs": [],
   "source": [
    "df_pertama.index = df_pertama['No.']"
   ]
  },
  {
   "cell_type": "code",
   "execution_count": 12,
   "metadata": {
    "collapsed": true
   },
   "outputs": [],
   "source": [
    "df_pertama = df_pertama[list(df_pertama.columns)[1:]]"
   ]
  },
  {
   "cell_type": "code",
   "execution_count": 13,
   "metadata": {
    "collapsed": true
   },
   "outputs": [],
   "source": [
    "df_pertama.index.name = 'Index'"
   ]
  },
  {
   "cell_type": "code",
   "execution_count": 14,
   "metadata": {},
   "outputs": [
    {
     "data": {
      "text/html": [
       "<div>\n",
       "<style>\n",
       "    .dataframe thead tr:only-child th {\n",
       "        text-align: right;\n",
       "    }\n",
       "\n",
       "    .dataframe thead th {\n",
       "        text-align: left;\n",
       "    }\n",
       "\n",
       "    .dataframe tbody tr th {\n",
       "        vertical-align: top;\n",
       "    }\n",
       "</style>\n",
       "<table border=\"1\" class=\"dataframe\">\n",
       "  <thead>\n",
       "    <tr style=\"text-align: right;\">\n",
       "      <th></th>\n",
       "      <th>No. Tilang</th>\n",
       "      <th>Nama Terdakwa / Terpidana</th>\n",
       "      <th>Alamat Terdakwa / Terpidana</th>\n",
       "      <th>Pasal Yang Dilanggar</th>\n",
       "      <th>Barang bukti</th>\n",
       "      <th>No pol</th>\n",
       "      <th>No. Kop</th>\n",
       "      <th>No pn</th>\n",
       "      <th>KOP</th>\n",
       "      <th>Denda (Rp)</th>\n",
       "      <th>Subsidair</th>\n",
       "      <th>Biaya Perkara (Rp)</th>\n",
       "      <th>Jenis kendaraan</th>\n",
       "      <th>Ket</th>\n",
       "    </tr>\n",
       "    <tr>\n",
       "      <th>Index</th>\n",
       "      <th></th>\n",
       "      <th></th>\n",
       "      <th></th>\n",
       "      <th></th>\n",
       "      <th></th>\n",
       "      <th></th>\n",
       "      <th></th>\n",
       "      <th></th>\n",
       "      <th></th>\n",
       "      <th></th>\n",
       "      <th></th>\n",
       "      <th></th>\n",
       "      <th></th>\n",
       "      <th></th>\n",
       "    </tr>\n",
       "  </thead>\n",
       "  <tbody>\n",
       "    <tr>\n",
       "      <th>1</th>\n",
       "      <td>4986875</td>\n",
       "      <td>YUSWANTO</td>\n",
       "      <td>LIDAH KULON SURABAYA</td>\n",
       "      <td>287(1A)</td>\n",
       "      <td>SIM C</td>\n",
       "      <td>NIHIL</td>\n",
       "      <td>NaN</td>\n",
       "      <td>295071</td>\n",
       "      <td>NaN</td>\n",
       "      <td>40000</td>\n",
       "      <td>3 HARI</td>\n",
       "      <td>1000</td>\n",
       "      <td>SEPEDA MOTOR</td>\n",
       "      <td>ELANG</td>\n",
       "    </tr>\n",
       "    <tr>\n",
       "      <th>2</th>\n",
       "      <td>4986874</td>\n",
       "      <td>MEGA</td>\n",
       "      <td>MAGELANG</td>\n",
       "      <td>287(1A)</td>\n",
       "      <td>STNK</td>\n",
       "      <td>L 5877 ZK</td>\n",
       "      <td>NaN</td>\n",
       "      <td>295072</td>\n",
       "      <td>NaN</td>\n",
       "      <td>40000</td>\n",
       "      <td>3 HARI</td>\n",
       "      <td>1000</td>\n",
       "      <td>SEPEDA MOTOR</td>\n",
       "      <td>ELANG</td>\n",
       "    </tr>\n",
       "    <tr>\n",
       "      <th>3</th>\n",
       "      <td>4986881</td>\n",
       "      <td>SUNARSIH</td>\n",
       "      <td>JOMBANG</td>\n",
       "      <td>281</td>\n",
       "      <td>STNK</td>\n",
       "      <td>S 5091 ZK</td>\n",
       "      <td>NaN</td>\n",
       "      <td>295073</td>\n",
       "      <td>NaN</td>\n",
       "      <td>90000</td>\n",
       "      <td>3 HARI</td>\n",
       "      <td>1000</td>\n",
       "      <td>SEPEDA MOTOR</td>\n",
       "      <td>ELANG</td>\n",
       "    </tr>\n",
       "    <tr>\n",
       "      <th>4</th>\n",
       "      <td>4986882</td>\n",
       "      <td>NANTOR J MARPAUNG</td>\n",
       "      <td>MEDAYU SURABAYA</td>\n",
       "      <td>287(1A)</td>\n",
       "      <td>SIM C</td>\n",
       "      <td>NIHIL</td>\n",
       "      <td>NaN</td>\n",
       "      <td>295074</td>\n",
       "      <td>NaN</td>\n",
       "      <td>40000</td>\n",
       "      <td>3 HARI</td>\n",
       "      <td>1000</td>\n",
       "      <td>SEPEDA MOTOR</td>\n",
       "      <td>ELANG</td>\n",
       "    </tr>\n",
       "    <tr>\n",
       "      <th>5</th>\n",
       "      <td>4986885</td>\n",
       "      <td>MOCHAMMAD TAUFIQ</td>\n",
       "      <td>GILANG TAMAN SIDOARJO</td>\n",
       "      <td>287(1A)</td>\n",
       "      <td>SIM C</td>\n",
       "      <td>NIHIL</td>\n",
       "      <td>NaN</td>\n",
       "      <td>295075</td>\n",
       "      <td>NaN</td>\n",
       "      <td>40000</td>\n",
       "      <td>3 HARI</td>\n",
       "      <td>1000</td>\n",
       "      <td>SEPEDA MOTOR</td>\n",
       "      <td>ELANG</td>\n",
       "    </tr>\n",
       "  </tbody>\n",
       "</table>\n",
       "</div>"
      ],
      "text/plain": [
       "      No. Tilang Nama Terdakwa / Terpidana Alamat Terdakwa / Terpidana  \\\n",
       "Index                                                                    \n",
       "1        4986875                  YUSWANTO        LIDAH KULON SURABAYA   \n",
       "2        4986874                      MEGA                    MAGELANG   \n",
       "3        4986881                  SUNARSIH                     JOMBANG   \n",
       "4        4986882         NANTOR J MARPAUNG             MEDAYU SURABAYA   \n",
       "5        4986885          MOCHAMMAD TAUFIQ       GILANG TAMAN SIDOARJO   \n",
       "\n",
       "      Pasal Yang Dilanggar Barang bukti     No pol No. Kop   No pn  KOP  \\\n",
       "Index                                                                     \n",
       "1                  287(1A)        SIM C      NIHIL     NaN  295071  NaN   \n",
       "2                  287(1A)         STNK  L 5877 ZK     NaN  295072  NaN   \n",
       "3                      281         STNK  S 5091 ZK     NaN  295073  NaN   \n",
       "4                  287(1A)        SIM C      NIHIL     NaN  295074  NaN   \n",
       "5                  287(1A)        SIM C      NIHIL     NaN  295075  NaN   \n",
       "\n",
       "      Denda (Rp) Subsidair Biaya Perkara (Rp) Jenis kendaraan    Ket  \n",
       "Index                                                                 \n",
       "1          40000    3 HARI               1000    SEPEDA MOTOR  ELANG  \n",
       "2          40000    3 HARI               1000    SEPEDA MOTOR  ELANG  \n",
       "3          90000    3 HARI               1000    SEPEDA MOTOR  ELANG  \n",
       "4          40000    3 HARI               1000    SEPEDA MOTOR  ELANG  \n",
       "5          40000    3 HARI               1000    SEPEDA MOTOR  ELANG  "
      ]
     },
     "execution_count": 14,
     "metadata": {},
     "output_type": "execute_result"
    }
   ],
   "source": [
    "df_pertama.head()"
   ]
  },
  {
   "cell_type": "code",
   "execution_count": 15,
   "metadata": {
    "collapsed": true
   },
   "outputs": [],
   "source": [
    "df_pertama.to_csv(\"../data/Tilang 22 Desember 2017 - Bagian Pertama.csv\")"
   ]
  },
  {
   "cell_type": "markdown",
   "metadata": {},
   "source": [
    "# Analisis Asal Tersangka"
   ]
  },
  {
   "cell_type": "code",
   "execution_count": 16,
   "metadata": {
    "collapsed": true
   },
   "outputs": [],
   "source": [
    "df_pertama['Asal Kota'] = df_pertama['Alamat Terdakwa / Terpidana'].str.split(' ', -1)"
   ]
  },
  {
   "cell_type": "code",
   "execution_count": 17,
   "metadata": {
    "collapsed": true
   },
   "outputs": [],
   "source": [
    "asal_kota = df_pertama['Asal Kota']"
   ]
  },
  {
   "cell_type": "code",
   "execution_count": 18,
   "metadata": {
    "collapsed": true
   },
   "outputs": [],
   "source": [
    "asal_kota = asal_kota.str.get(-1)"
   ]
  },
  {
   "cell_type": "code",
   "execution_count": 19,
   "metadata": {
    "scrolled": true
   },
   "outputs": [
    {
     "data": {
      "text/plain": [
       "Index\n",
       "1    SURABAYA\n",
       "2    MAGELANG\n",
       "3     JOMBANG\n",
       "4    SURABAYA\n",
       "5    SIDOARJO\n",
       "Name: Asal Kota, dtype: object"
      ]
     },
     "execution_count": 19,
     "metadata": {},
     "output_type": "execute_result"
    }
   ],
   "source": [
    "asal_kota.head()"
   ]
  },
  {
   "cell_type": "code",
   "execution_count": 20,
   "metadata": {
    "collapsed": true
   },
   "outputs": [],
   "source": [
    "asal_kota.value_counts().to_csv('../data/asal_kota_pelanggar.csv')"
   ]
  },
  {
   "cell_type": "code",
   "execution_count": 21,
   "metadata": {},
   "outputs": [
    {
     "data": {
      "text/plain": [
       "<matplotlib.axes._subplots.AxesSubplot at 0x7fd55a70e8d0>"
      ]
     },
     "execution_count": 21,
     "metadata": {},
     "output_type": "execute_result"
    },
    {
     "data": {
      "image/png": "[encoded data removed]",
      "text/plain": [
       "<matplotlib.figure.Figure at 0x7fd55a70e208>"
      ]
     },
     "metadata": {},
     "output_type": "display_data"
    }
   ],
   "source": [
    "asal_kota.value_counts()[:10].plot(kind='bar')"
   ]
  },
  {
   "cell_type": "markdown",
   "metadata": {},
   "source": [
    "## Filter Variasi Nama Kota"
   ]
  },
  {
   "cell_type": "code",
   "execution_count": 22,
   "metadata": {
    "collapsed": true
   },
   "outputs": [],
   "source": [
    "variasi_surabaya = {'SURABAYA', 'SBY', 'SURABYAA', 'SURABYA', 'SURBAYA', 'SRABAYA', 'SURAABAYA', 'SUABAYA', ',SURABAYA', 'SIRABAYA' } "
   ]
  },
  {
   "cell_type": "code",
   "execution_count": 23,
   "metadata": {
    "collapsed": true
   },
   "outputs": [],
   "source": [
    "variasi_sidoarjo = {'SIDOARJO', \"SDA\", 'SIDOAREJO'}"
   ]
  },
  {
   "cell_type": "code",
   "execution_count": 24,
   "metadata": {
    "collapsed": true
   },
   "outputs": [],
   "source": [
    "surabaya = asal_kota.str.contains(\"|\".join(variasi_surabaya))"
   ]
  },
  {
   "cell_type": "code",
   "execution_count": 25,
   "metadata": {
    "collapsed": true
   },
   "outputs": [],
   "source": [
    "sby_counts = asal_kota.dropna()[surabaya.dropna()]"
   ]
  },
  {
   "cell_type": "code",
   "execution_count": 26,
   "metadata": {},
   "outputs": [
    {
     "data": {
      "text/plain": [
       "SURABAYA      2116\n",
       "SBY            701\n",
       "SURBAYA          2\n",
       "SURABYAA         2\n",
       "SURABYA          2\n",
       "2BSURABAYA       1\n",
       "SBYQ             1\n",
       "SRABAYA          1\n",
       "SURAABAYA        1\n",
       "SUABAYA          1\n",
       "7.16ASBY         1\n",
       "PLMAHANSBY       1\n",
       ",SURABAYA        1\n",
       "SIRABAYA         1\n",
       "Name: Asal Kota, dtype: int64"
      ]
     },
     "execution_count": 26,
     "metadata": {},
     "output_type": "execute_result"
    }
   ],
   "source": [
    "sby_counts.value_counts()"
   ]
  },
  {
   "cell_type": "code",
   "execution_count": 27,
   "metadata": {
    "collapsed": true
   },
   "outputs": [],
   "source": [
    "sby_series = pd.Series({\"SURABAYA\":sby_counts.value_counts().sum()})"
   ]
  },
  {
   "cell_type": "code",
   "execution_count": 28,
   "metadata": {},
   "outputs": [
    {
     "data": {
      "text/plain": [
       "SURABAYA    2832\n",
       "dtype: int64"
      ]
     },
     "execution_count": 28,
     "metadata": {},
     "output_type": "execute_result"
    }
   ],
   "source": [
    "sby_series"
   ]
  },
  {
   "cell_type": "code",
   "execution_count": 29,
   "metadata": {
    "collapsed": true
   },
   "outputs": [],
   "source": [
    "sidoarjo = asal_kota.str.contains(\"|\".join(variasi_sidoarjo))"
   ]
  },
  {
   "cell_type": "code",
   "execution_count": 30,
   "metadata": {
    "collapsed": true
   },
   "outputs": [],
   "source": [
    "sda_counts =  asal_kota.dropna()[sidoarjo.dropna()]"
   ]
  },
  {
   "cell_type": "code",
   "execution_count": 31,
   "metadata": {},
   "outputs": [
    {
     "data": {
      "text/plain": [
       "SIDOARJO     251\n",
       "SDA          134\n",
       "SIDOAREJO      1\n",
       "Name: Asal Kota, dtype: int64"
      ]
     },
     "execution_count": 31,
     "metadata": {},
     "output_type": "execute_result"
    }
   ],
   "source": [
    "sda_counts.value_counts()"
   ]
  },
  {
   "cell_type": "code",
   "execution_count": 32,
   "metadata": {
    "collapsed": true
   },
   "outputs": [],
   "source": [
    "sda_series = pd.Series({\"SIDOARJO\": sda_counts.value_counts().sum()})"
   ]
  },
  {
   "cell_type": "code",
   "execution_count": 33,
   "metadata": {},
   "outputs": [
    {
     "data": {
      "text/plain": [
       "SIDOARJO    386\n",
       "dtype: int64"
      ]
     },
     "execution_count": 33,
     "metadata": {},
     "output_type": "execute_result"
    }
   ],
   "source": [
    "sda_series"
   ]
  },
  {
   "cell_type": "code",
   "execution_count": 34,
   "metadata": {
    "collapsed": true
   },
   "outputs": [],
   "source": [
    "variasi_lamongan = {\"LMGN\", \"LAMOINGAN\", \"LAMONGAN\"}"
   ]
  },
  {
   "cell_type": "code",
   "execution_count": 35,
   "metadata": {
    "collapsed": true
   },
   "outputs": [],
   "source": [
    "lamongan = asal_kota.str.contains(\"|\".join(variasi_lamongan))"
   ]
  },
  {
   "cell_type": "code",
   "execution_count": 36,
   "metadata": {
    "collapsed": true
   },
   "outputs": [],
   "source": [
    "lamongan_counts =  asal_kota.dropna()[lamongan.dropna()]"
   ]
  },
  {
   "cell_type": "code",
   "execution_count": 37,
   "metadata": {},
   "outputs": [
    {
     "data": {
      "text/plain": [
       "LAMONGAN     88\n",
       "LMGN          1\n",
       "LAMOINGAN     1\n",
       "Name: Asal Kota, dtype: int64"
      ]
     },
     "execution_count": 37,
     "metadata": {},
     "output_type": "execute_result"
    }
   ],
   "source": [
    "lamongan_counts.value_counts()"
   ]
  },
  {
   "cell_type": "code",
   "execution_count": 38,
   "metadata": {
    "collapsed": true
   },
   "outputs": [],
   "source": [
    "lamongan_series = pd.Series({\"LAMONGAN\": lamongan_counts.value_counts().sum()})"
   ]
  },
  {
   "cell_type": "markdown",
   "metadata": {},
   "source": [
    "## Filter Alternatif"
   ]
  },
  {
   "cell_type": "code",
   "execution_count": 39,
   "metadata": {
    "collapsed": true
   },
   "outputs": [],
   "source": [
    "variasi_gresik = {\"GRESIK\", \"GRESIOK\", \"GRESI\", \"GRESIIK\", \"GREMSIK\"}"
   ]
  },
  {
   "cell_type": "code",
   "execution_count": 40,
   "metadata": {
    "collapsed": true
   },
   "outputs": [],
   "source": [
    "def filter_gresik(series):\n",
    "    if series in variasi_gresik:\n",
    "        return \"GRESIK\""
   ]
  },
  {
   "cell_type": "code",
   "execution_count": 41,
   "metadata": {
    "collapsed": true
   },
   "outputs": [],
   "source": [
    "gresik = asal_kota.apply(filter_gresik)"
   ]
  },
  {
   "cell_type": "code",
   "execution_count": 42,
   "metadata": {
    "collapsed": true
   },
   "outputs": [],
   "source": [
    "gresik_series = gresik.value_counts()"
   ]
  },
  {
   "cell_type": "code",
   "execution_count": 43,
   "metadata": {
    "collapsed": true
   },
   "outputs": [],
   "source": [
    "variasi_bangkalan = {\"BANGKALAN\", \"BANGKLAN\"}"
   ]
  },
  {
   "cell_type": "code",
   "execution_count": 44,
   "metadata": {
    "collapsed": true
   },
   "outputs": [],
   "source": [
    "def filter_bangkalan(series):\n",
    "    if series in variasi_bangkalan:\n",
    "        return \"BANGKALAN\""
   ]
  },
  {
   "cell_type": "code",
   "execution_count": 45,
   "metadata": {
    "collapsed": true
   },
   "outputs": [],
   "source": [
    "bangkalan = asal_kota.apply(filter_bangkalan)"
   ]
  },
  {
   "cell_type": "code",
   "execution_count": 46,
   "metadata": {
    "collapsed": true
   },
   "outputs": [],
   "source": [
    "bangkalan_series = bangkalan.value_counts()"
   ]
  },
  {
   "cell_type": "markdown",
   "metadata": {},
   "source": [
    "## Menggabungkan 5 Kota dan Visualisasi"
   ]
  },
  {
   "cell_type": "code",
   "execution_count": 47,
   "metadata": {
    "collapsed": true
   },
   "outputs": [],
   "source": [
    "kota_tertinggi = sby_series.append([sda_series, lamongan_series, gresik_series, bangkalan_series])"
   ]
  },
  {
   "cell_type": "code",
   "execution_count": 48,
   "metadata": {
    "collapsed": true
   },
   "outputs": [],
   "source": [
    "kota_tertinggi = kota_tertinggi.sort_values(ascending=False)\n",
    "kota_tertinggi.index.name = 'KOTA'\n",
    "kota_tertinggi.name = 'JUMLAH'\n",
    "kota_tertinggi = pd.DataFrame(kota_tertinggi)"
   ]
  },
  {
   "cell_type": "code",
   "execution_count": 49,
   "metadata": {},
   "outputs": [
    {
     "data": {
      "text/html": [
       "<div>\n",
       "<style>\n",
       "    .dataframe thead tr:only-child th {\n",
       "        text-align: right;\n",
       "    }\n",
       "\n",
       "    .dataframe thead th {\n",
       "        text-align: left;\n",
       "    }\n",
       "\n",
       "    .dataframe tbody tr th {\n",
       "        vertical-align: top;\n",
       "    }\n",
       "</style>\n",
       "<table border=\"1\" class=\"dataframe\">\n",
       "  <thead>\n",
       "    <tr style=\"text-align: right;\">\n",
       "      <th></th>\n",
       "      <th>JUMLAH</th>\n",
       "    </tr>\n",
       "    <tr>\n",
       "      <th>KOTA</th>\n",
       "      <th></th>\n",
       "    </tr>\n",
       "  </thead>\n",
       "  <tbody>\n",
       "    <tr>\n",
       "      <th>SURABAYA</th>\n",
       "      <td>2832</td>\n",
       "    </tr>\n",
       "    <tr>\n",
       "      <th>SIDOARJO</th>\n",
       "      <td>386</td>\n",
       "    </tr>\n",
       "    <tr>\n",
       "      <th>GRESIK</th>\n",
       "      <td>229</td>\n",
       "    </tr>\n",
       "    <tr>\n",
       "      <th>LAMONGAN</th>\n",
       "      <td>90</td>\n",
       "    </tr>\n",
       "    <tr>\n",
       "      <th>BANGKALAN</th>\n",
       "      <td>60</td>\n",
       "    </tr>\n",
       "  </tbody>\n",
       "</table>\n",
       "</div>"
      ],
      "text/plain": [
       "           JUMLAH\n",
       "KOTA             \n",
       "SURABAYA     2832\n",
       "SIDOARJO      386\n",
       "GRESIK        229\n",
       "LAMONGAN       90\n",
       "BANGKALAN      60"
      ]
     },
     "execution_count": 49,
     "metadata": {},
     "output_type": "execute_result"
    }
   ],
   "source": [
    "kota_tertinggi"
   ]
  },
  {
   "cell_type": "code",
   "execution_count": 50,
   "metadata": {},
   "outputs": [
    {
     "data": {
      "text/plain": [
       "<matplotlib.axes._subplots.AxesSubplot at 0x7fd55a7c37f0>"
      ]
     },
     "execution_count": 50,
     "metadata": {},
     "output_type": "execute_result"
    },
    {
     "data": {
      "image/png": "[encoded data removed]",
      "text/plain": [
       "<matplotlib.figure.Figure at 0x7fd55a871be0>"
      ]
     },
     "metadata": {},
     "output_type": "display_data"
    }
   ],
   "source": [
    "kota_tertinggi.plot(kind='bar', title='Jumlah Pelanggar Berdasarkan Kota')"
   ]
  },
  {
   "cell_type": "code",
   "execution_count": 51,
   "metadata": {},
   "outputs": [
    {
     "data": {
      "text/plain": [
       "<matplotlib.axes._subplots.AxesSubplot at 0x7fd55a87a4a8>"
      ]
     },
     "execution_count": 51,
     "metadata": {},
     "output_type": "execute_result"
    },
    {
     "data": {
      "image/png": "[encoded data removed]",
      "text/plain": [
       "<matplotlib.figure.Figure at 0x7fd55a79e4e0>"
      ]
     },
     "metadata": {},
     "output_type": "display_data"
    }
   ],
   "source": [
    "kota_tertinggi.plot(y=\"JUMLAH\", kind='pie', title=\"Jumlah Pelanggar Berdasarkan Kota\", legend=False)"
   ]
  },
  {
   "cell_type": "markdown",
   "metadata": {},
   "source": [
    "## Barang Bukti"
   ]
  },
  {
   "cell_type": "code",
   "execution_count": 52,
   "metadata": {},
   "outputs": [
    {
     "data": {
      "text/plain": [
       "<matplotlib.axes._subplots.AxesSubplot at 0x7fd5530e7c88>"
      ]
     },
     "execution_count": 52,
     "metadata": {},
     "output_type": "execute_result"
    },
    {
     "data": {
      "image/png": "[encoded data removed]",
      "text/plain": [
       "<matplotlib.figure.Figure at 0x7fd5530dd160>"
      ]
     },
     "metadata": {},
     "output_type": "display_data"
    }
   ],
   "source": [
    "df_pertama['Barang bukti'].value_counts()[:5].plot(kind='bar', title=\"Jumlah Barang bukti yang diserahkan\")"
   ]
  },
  {
   "cell_type": "code",
   "execution_count": 53,
   "metadata": {},
   "outputs": [
    {
     "data": {
      "text/plain": [
       "<matplotlib.axes._subplots.AxesSubplot at 0x7fd5530f3f60>"
      ]
     },
     "execution_count": 53,
     "metadata": {},
     "output_type": "execute_result"
    },
    {
     "data": {
      "image/png": "[encoded data removed]",
      "text/plain": [
       "<matplotlib.figure.Figure at 0x7fd553108208>"
      ]
     },
     "metadata": {},
     "output_type": "display_data"
    }
   ],
   "source": [
    "df_pertama['Barang bukti'].value_counts()[:5].plot(kind='pie', title=\"Jumlah Barang bukti yang diserahkan\")"
   ]
  },
  {
   "cell_type": "code",
   "execution_count": 54,
   "metadata": {
    "collapsed": true
   },
   "outputs": [],
   "source": [
    "barang_bukti = df_pertama['Barang bukti'].value_counts()[:5]\n",
    "barang_bukti.name = \"JUMLAH\"\n",
    "barang_bukti.index.name = \"BARANG BUKTI\"\n",
    "barang_bukti = pd.DataFrame(barang_bukti)"
   ]
  },
  {
   "cell_type": "code",
   "execution_count": 55,
   "metadata": {},
   "outputs": [
    {
     "data": {
      "text/html": [
       "<div>\n",
       "<style>\n",
       "    .dataframe thead tr:only-child th {\n",
       "        text-align: right;\n",
       "    }\n",
       "\n",
       "    .dataframe thead th {\n",
       "        text-align: left;\n",
       "    }\n",
       "\n",
       "    .dataframe tbody tr th {\n",
       "        vertical-align: top;\n",
       "    }\n",
       "</style>\n",
       "<table border=\"1\" class=\"dataframe\">\n",
       "  <thead>\n",
       "    <tr style=\"text-align: right;\">\n",
       "      <th></th>\n",
       "      <th>JUMLAH</th>\n",
       "    </tr>\n",
       "    <tr>\n",
       "      <th>BARANG BUKTI</th>\n",
       "      <th></th>\n",
       "    </tr>\n",
       "  </thead>\n",
       "  <tbody>\n",
       "    <tr>\n",
       "      <th>STNK</th>\n",
       "      <td>2990</td>\n",
       "    </tr>\n",
       "    <tr>\n",
       "      <th>SIM C</th>\n",
       "      <td>916</td>\n",
       "    </tr>\n",
       "    <tr>\n",
       "      <th>SIM A</th>\n",
       "      <td>355</td>\n",
       "    </tr>\n",
       "    <tr>\n",
       "      <th>RANMOR R2</th>\n",
       "      <td>105</td>\n",
       "    </tr>\n",
       "    <tr>\n",
       "      <th>SIM BI</th>\n",
       "      <td>35</td>\n",
       "    </tr>\n",
       "  </tbody>\n",
       "</table>\n",
       "</div>"
      ],
      "text/plain": [
       "              JUMLAH\n",
       "BARANG BUKTI        \n",
       "STNK            2990\n",
       "SIM C            916\n",
       "SIM A            355\n",
       "RANMOR R2        105\n",
       "SIM BI            35"
      ]
     },
     "execution_count": 55,
     "metadata": {},
     "output_type": "execute_result"
    }
   ],
   "source": [
    "barang_bukti"
   ]
  },
  {
   "cell_type": "markdown",
   "metadata": {},
   "source": [
    "## Denda"
   ]
  },
  {
   "cell_type": "code",
   "execution_count": 56,
   "metadata": {},
   "outputs": [
    {
     "data": {
      "text/plain": [
       "<matplotlib.axes._subplots.AxesSubplot at 0x7fd55309b390>"
      ]
     },
     "execution_count": 56,
     "metadata": {},
     "output_type": "execute_result"
    },
    {
     "data": {
      "image/png": "[encoded data removed]",
      "text/plain": [
       "<matplotlib.figure.Figure at 0x7fd55305fb00>"
      ]
     },
     "metadata": {},
     "output_type": "display_data"
    }
   ],
   "source": [
    "df_pertama['Denda (Rp)'].value_counts()[:5].plot(kind='bar')"
   ]
  },
  {
   "cell_type": "code",
   "execution_count": 57,
   "metadata": {
    "collapsed": true
   },
   "outputs": [],
   "source": [
    "denda = df_pertama['Denda (Rp)'].value_counts()[:5]"
   ]
  },
  {
   "cell_type": "code",
   "execution_count": 58,
   "metadata": {
    "collapsed": true
   },
   "outputs": [],
   "source": [
    "denda.index.name = \"DENDA\"\n",
    "denda.name = \"JUMLAH\"\n",
    "denda = pd.DataFrame(denda)"
   ]
  },
  {
   "cell_type": "code",
   "execution_count": 59,
   "metadata": {},
   "outputs": [
    {
     "data": {
      "text/html": [
       "<div>\n",
       "<style>\n",
       "    .dataframe thead tr:only-child th {\n",
       "        text-align: right;\n",
       "    }\n",
       "\n",
       "    .dataframe thead th {\n",
       "        text-align: left;\n",
       "    }\n",
       "\n",
       "    .dataframe tbody tr th {\n",
       "        vertical-align: top;\n",
       "    }\n",
       "</style>\n",
       "<table border=\"1\" class=\"dataframe\">\n",
       "  <thead>\n",
       "    <tr style=\"text-align: right;\">\n",
       "      <th></th>\n",
       "      <th>JUMLAH</th>\n",
       "    </tr>\n",
       "    <tr>\n",
       "      <th>DENDA</th>\n",
       "      <th></th>\n",
       "    </tr>\n",
       "  </thead>\n",
       "  <tbody>\n",
       "    <tr>\n",
       "      <th>50000</th>\n",
       "      <td>2058</td>\n",
       "    </tr>\n",
       "    <tr>\n",
       "      <th>40000</th>\n",
       "      <td>1410</td>\n",
       "    </tr>\n",
       "    <tr>\n",
       "      <th>60000</th>\n",
       "      <td>601</td>\n",
       "    </tr>\n",
       "    <tr>\n",
       "      <th>90000</th>\n",
       "      <td>134</td>\n",
       "    </tr>\n",
       "    <tr>\n",
       "      <th>75000</th>\n",
       "      <td>83</td>\n",
       "    </tr>\n",
       "  </tbody>\n",
       "</table>\n",
       "</div>"
      ],
      "text/plain": [
       "       JUMLAH\n",
       "DENDA        \n",
       "50000    2058\n",
       "40000    1410\n",
       "60000     601\n",
       "90000     134\n",
       "75000      83"
      ]
     },
     "execution_count": 59,
     "metadata": {},
     "output_type": "execute_result"
    }
   ],
   "source": [
    "denda"
   ]
  },
  {
   "cell_type": "markdown",
   "metadata": {},
   "source": [
    "## Jenis Kendaraan"
   ]
  },
  {
   "cell_type": "code",
   "execution_count": 60,
   "metadata": {
    "collapsed": true
   },
   "outputs": [],
   "source": [
    "jenis_kendaraan = df_pertama['Jenis kendaraan'].value_counts()[:5]"
   ]
  },
  {
   "cell_type": "code",
   "execution_count": 61,
   "metadata": {},
   "outputs": [
    {
     "data": {
      "text/plain": [
       "<matplotlib.axes._subplots.AxesSubplot at 0x7fd553028908>"
      ]
     },
     "execution_count": 61,
     "metadata": {},
     "output_type": "execute_result"
    },
    {
     "data": {
      "image/png": "[encoded data removed]",
      "text/plain": [
       "<matplotlib.figure.Figure at 0x7fd5530338d0>"
      ]
     },
     "metadata": {},
     "output_type": "display_data"
    }
   ],
   "source": [
    "jenis_kendaraan.plot(kind='bar', title=\"Pelanggar Berdasarkan Kendaraan\")"
   ]
  },
  {
   "cell_type": "code",
   "execution_count": 62,
   "metadata": {},
   "outputs": [
    {
     "data": {
      "text/html": [
       "<div>\n",
       "<style>\n",
       "    .dataframe thead tr:only-child th {\n",
       "        text-align: right;\n",
       "    }\n",
       "\n",
       "    .dataframe thead th {\n",
       "        text-align: left;\n",
       "    }\n",
       "\n",
       "    .dataframe tbody tr th {\n",
       "        vertical-align: top;\n",
       "    }\n",
       "</style>\n",
       "<table border=\"1\" class=\"dataframe\">\n",
       "  <thead>\n",
       "    <tr style=\"text-align: right;\">\n",
       "      <th></th>\n",
       "      <th>JUMLAH</th>\n",
       "    </tr>\n",
       "    <tr>\n",
       "      <th>JENIS KENDARAAN</th>\n",
       "      <th></th>\n",
       "    </tr>\n",
       "  </thead>\n",
       "  <tbody>\n",
       "    <tr>\n",
       "      <th>SEPEDA MOTOR</th>\n",
       "      <td>3676</td>\n",
       "    </tr>\n",
       "    <tr>\n",
       "      <th>MOBIL</th>\n",
       "      <td>528</td>\n",
       "    </tr>\n",
       "    <tr>\n",
       "      <th>TRUK</th>\n",
       "      <td>119</td>\n",
       "    </tr>\n",
       "    <tr>\n",
       "      <th>PICKUP</th>\n",
       "      <td>101</td>\n",
       "    </tr>\n",
       "    <tr>\n",
       "      <th>TAKSI</th>\n",
       "      <td>10</td>\n",
       "    </tr>\n",
       "  </tbody>\n",
       "</table>\n",
       "</div>"
      ],
      "text/plain": [
       "                 JUMLAH\n",
       "JENIS KENDARAAN        \n",
       "SEPEDA MOTOR       3676\n",
       "MOBIL               528\n",
       "TRUK                119\n",
       "PICKUP              101\n",
       "TAKSI                10"
      ]
     },
     "execution_count": 62,
     "metadata": {},
     "output_type": "execute_result"
    }
   ],
   "source": [
    "jenis_kendaraan.index.name = \"JENIS KENDARAAN\"\n",
    "jenis_kendaraan.name = \"JUMLAH\"\n",
    "jenis_kendaraan = pd.DataFrame(jenis_kendaraan)\n",
    "jenis_kendaraan"
   ]
  },
  {
   "cell_type": "markdown",
   "metadata": {},
   "source": [
    "## Asal Kantor Polisi"
   ]
  },
  {
   "cell_type": "code",
   "execution_count": 63,
   "metadata": {
    "collapsed": true
   },
   "outputs": [],
   "source": [
    "kantor_polisi = df_pertama['Ket'].value_counts()[:5]"
   ]
  },
  {
   "cell_type": "code",
   "execution_count": 64,
   "metadata": {},
   "outputs": [
    {
     "data": {
      "text/plain": [
       "<matplotlib.axes._subplots.AxesSubplot at 0x7fd55a7b7908>"
      ]
     },
     "execution_count": 64,
     "metadata": {},
     "output_type": "execute_result"
    },
    {
     "data": {
      "image/png": "[encoded data removed]",
      "text/plain": [
       "<matplotlib.figure.Figure at 0x7fd552fe8f98>"
      ]
     },
     "metadata": {},
     "output_type": "display_data"
    }
   ],
   "source": [
    "kantor_polisi.plot(kind='bar', title=\"Area asal Penangkapan\")"
   ]
  },
  {
   "cell_type": "code",
   "execution_count": 65,
   "metadata": {},
   "outputs": [
    {
     "data": {
      "text/html": [
       "<div>\n",
       "<style>\n",
       "    .dataframe thead tr:only-child th {\n",
       "        text-align: right;\n",
       "    }\n",
       "\n",
       "    .dataframe thead th {\n",
       "        text-align: left;\n",
       "    }\n",
       "\n",
       "    .dataframe tbody tr th {\n",
       "        vertical-align: top;\n",
       "    }\n",
       "</style>\n",
       "<table border=\"1\" class=\"dataframe\">\n",
       "  <thead>\n",
       "    <tr style=\"text-align: right;\">\n",
       "      <th></th>\n",
       "      <th>JUMLAH</th>\n",
       "    </tr>\n",
       "    <tr>\n",
       "      <th>KANTOR POLISI</th>\n",
       "      <th></th>\n",
       "    </tr>\n",
       "  </thead>\n",
       "  <tbody>\n",
       "    <tr>\n",
       "      <th>POLSEK GUBENG</th>\n",
       "      <td>285</td>\n",
       "    </tr>\n",
       "    <tr>\n",
       "      <th>MANYAR</th>\n",
       "      <td>272</td>\n",
       "    </tr>\n",
       "    <tr>\n",
       "      <th>POLSEK TANDES</th>\n",
       "      <td>235</td>\n",
       "    </tr>\n",
       "    <tr>\n",
       "      <th>MURAI (RR) A</th>\n",
       "      <td>220</td>\n",
       "    </tr>\n",
       "    <tr>\n",
       "      <th>POLSEK SUKOLILO</th>\n",
       "      <td>219</td>\n",
       "    </tr>\n",
       "  </tbody>\n",
       "</table>\n",
       "</div>"
      ],
      "text/plain": [
       "                 JUMLAH\n",
       "KANTOR POLISI          \n",
       "POLSEK GUBENG       285\n",
       "MANYAR              272\n",
       "POLSEK TANDES       235\n",
       "MURAI (RR) A        220\n",
       "POLSEK SUKOLILO     219"
      ]
     },
     "execution_count": 65,
     "metadata": {},
     "output_type": "execute_result"
    }
   ],
   "source": [
    "kantor_polisi.index.name = \"KANTOR POLISI\"\n",
    "kantor_polisi.name = \"JUMLAH\"\n",
    "kantor_polisi = pd.DataFrame(kantor_polisi)\n",
    "kantor_polisi"
   ]
  },
  {
   "cell_type": "markdown",
   "metadata": {},
   "source": [
    "## Pasal Dilanggar"
   ]
  },
  {
   "cell_type": "code",
   "execution_count": 66,
   "metadata": {
    "collapsed": true
   },
   "outputs": [],
   "source": [
    "pasal_dilanggar = df_pertama['Pasal Yang Dilanggar'].value_counts()[:5]"
   ]
  },
  {
   "cell_type": "code",
   "execution_count": 67,
   "metadata": {},
   "outputs": [
    {
     "data": {
      "text/plain": [
       "<matplotlib.axes._subplots.AxesSubplot at 0x7fd552f78550>"
      ]
     },
     "execution_count": 67,
     "metadata": {},
     "output_type": "execute_result"
    },
    {
     "data": {
      "image/png": "[encoded data removed]",
      "text/plain": [
       "<matplotlib.figure.Figure at 0x7fd552f808d0>"
      ]
     },
     "metadata": {},
     "output_type": "display_data"
    }
   ],
   "source": [
    "pasal_dilanggar.plot(kind='bar')"
   ]
  },
  {
   "cell_type": "code",
   "execution_count": 68,
   "metadata": {},
   "outputs": [
    {
     "data": {
      "text/html": [
       "<div>\n",
       "<style>\n",
       "    .dataframe thead tr:only-child th {\n",
       "        text-align: right;\n",
       "    }\n",
       "\n",
       "    .dataframe thead th {\n",
       "        text-align: left;\n",
       "    }\n",
       "\n",
       "    .dataframe tbody tr th {\n",
       "        vertical-align: top;\n",
       "    }\n",
       "</style>\n",
       "<table border=\"1\" class=\"dataframe\">\n",
       "  <thead>\n",
       "    <tr style=\"text-align: right;\">\n",
       "      <th></th>\n",
       "      <th>JUMLAH</th>\n",
       "    </tr>\n",
       "    <tr>\n",
       "      <th>PASAL DILANGGAR</th>\n",
       "      <th></th>\n",
       "    </tr>\n",
       "  </thead>\n",
       "  <tbody>\n",
       "    <tr>\n",
       "      <th>281</th>\n",
       "      <td>1541</td>\n",
       "    </tr>\n",
       "    <tr>\n",
       "      <th>287(1A)</th>\n",
       "      <td>910</td>\n",
       "    </tr>\n",
       "    <tr>\n",
       "      <th>287(1B)</th>\n",
       "      <td>424</td>\n",
       "    </tr>\n",
       "    <tr>\n",
       "      <th>288(1)</th>\n",
       "      <td>410</td>\n",
       "    </tr>\n",
       "    <tr>\n",
       "      <th>285(1)</th>\n",
       "      <td>201</td>\n",
       "    </tr>\n",
       "  </tbody>\n",
       "</table>\n",
       "</div>"
      ],
      "text/plain": [
       "                 JUMLAH\n",
       "PASAL DILANGGAR        \n",
       "281                1541\n",
       "287(1A)             910\n",
       "287(1B)             424\n",
       "288(1)              410\n",
       "285(1)              201"
      ]
     },
     "execution_count": 68,
     "metadata": {},
     "output_type": "execute_result"
    }
   ],
   "source": [
    "pasal_dilanggar.index.name = \"PASAL DILANGGAR\"\n",
    "pasal_dilanggar.name = \"JUMLAH\"\n",
    "pasal_dilanggar = pd.DataFrame(pasal_dilanggar)\n",
    "pasal_dilanggar"
   ]
  }
 ],
 "metadata": {
  "kernelspec": {
   "display_name": "Python 3",
   "language": "python",
   "name": "python3"
  },
  "language_info": {
   "codemirror_mode": {
    "name": "ipython",
    "version": 3
   },
   "file_extension": ".py",
   "mimetype": "text/x-python",
   "name": "python",
   "nbconvert_exporter": "python",
   "pygments_lexer": "ipython3",
   "version": "3.6.3"
  }
 },
 "nbformat": 4,
 "nbformat_minor": 2
}
